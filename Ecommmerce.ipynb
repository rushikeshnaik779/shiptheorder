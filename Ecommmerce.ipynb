{
  "nbformat": 4,
  "nbformat_minor": 0,
  "metadata": {
    "colab": {
      "name": "Ecommmerce.ipynb",
      "provenance": [],
      "authorship_tag": "ABX9TyOfwfPTaPzqf6IjPDMMnyuD",
      "include_colab_link": true
    },
    "kernelspec": {
      "display_name": "Python 3",
      "name": "python3"
    },
    "language_info": {
      "name": "python"
    }
  },
  "cells": [
    {
      "cell_type": "markdown",
      "metadata": {
        "id": "view-in-github",
        "colab_type": "text"
      },
      "source": [
        "<a href=\"https://colab.research.google.com/github/rushikeshnaik779/shiptheorder/blob/main/Ecommmerce.ipynb\" target=\"_parent\"><img src=\"https://colab.research.google.com/assets/colab-badge.svg\" alt=\"Open In Colab\"/></a>"
      ]
    },
    {
      "cell_type": "code",
      "metadata": {
        "colab": {
          "base_uri": "https://localhost:8080/"
        },
        "id": "nFBEcUEjRpl5",
        "outputId": "9eee0efd-0397-4e32-ada4-4165c4878f1a"
      },
      "source": [
        "!mkdir -p ~/.kaggle/ && mv kaggle.json ~/.kaggle/ && chmod 600 ~/.kaggle/kaggle.json\n",
        "!kaggle datasets download -d prachi13/customer-analytics"
      ],
      "execution_count": null,
      "outputs": [
        {
          "name": "stdout",
          "output_type": "stream",
          "text": [
            "Downloading customer-analytics.zip to /content\n",
            "\r  0% 0.00/121k [00:00<?, ?B/s]\n",
            "\r100% 121k/121k [00:00<00:00, 43.3MB/s]\n"
          ]
        }
      ]
    },
    {
      "cell_type": "code",
      "metadata": {
        "colab": {
          "base_uri": "https://localhost:8080/"
        },
        "id": "i4hSHjHESGTh",
        "outputId": "b2dcc534-6169-4921-ab6e-5ceff5cb92a4"
      },
      "source": [
        "!unzip customer-analytics.zip"
      ],
      "execution_count": null,
      "outputs": [
        {
          "name": "stdout",
          "output_type": "stream",
          "text": [
            "Archive:  customer-analytics.zip\n",
            "  inflating: Train.csv               \n"
          ]
        }
      ]
    },
    {
      "cell_type": "code",
      "metadata": {
        "id": "C11JmEpaSdPH"
      },
      "source": [
        "# importing the libraries \n",
        "import pandas as pd\n",
        "import numpy as np \n",
        "import seaborn as sns \n",
        "import matplotlib.pyplot as plt\n"
      ],
      "execution_count": null,
      "outputs": []
    },
    {
      "cell_type": "code",
      "metadata": {
        "colab": {
          "base_uri": "https://localhost:8080/",
          "height": 224
        },
        "id": "MFirQWqISR3C",
        "outputId": "ef523b82-ff36-41b4-ed50-181b64b068b2"
      },
      "source": [
        "df = pd.read_csv('../content/Train.csv')\n",
        "df.head()"
      ],
      "execution_count": null,
      "outputs": [
        {
          "data": {
            "text/html": [
              "<div>\n",
              "<style scoped>\n",
              "    .dataframe tbody tr th:only-of-type {\n",
              "        vertical-align: middle;\n",
              "    }\n",
              "\n",
              "    .dataframe tbody tr th {\n",
              "        vertical-align: top;\n",
              "    }\n",
              "\n",
              "    .dataframe thead th {\n",
              "        text-align: right;\n",
              "    }\n",
              "</style>\n",
              "<table border=\"1\" class=\"dataframe\">\n",
              "  <thead>\n",
              "    <tr style=\"text-align: right;\">\n",
              "      <th></th>\n",
              "      <th>ID</th>\n",
              "      <th>Warehouse_block</th>\n",
              "      <th>Mode_of_Shipment</th>\n",
              "      <th>Customer_care_calls</th>\n",
              "      <th>Customer_rating</th>\n",
              "      <th>Cost_of_the_Product</th>\n",
              "      <th>Prior_purchases</th>\n",
              "      <th>Product_importance</th>\n",
              "      <th>Gender</th>\n",
              "      <th>Discount_offered</th>\n",
              "      <th>Weight_in_gms</th>\n",
              "      <th>Reached.on.Time_Y.N</th>\n",
              "    </tr>\n",
              "  </thead>\n",
              "  <tbody>\n",
              "    <tr>\n",
              "      <th>0</th>\n",
              "      <td>1</td>\n",
              "      <td>D</td>\n",
              "      <td>Flight</td>\n",
              "      <td>4</td>\n",
              "      <td>2</td>\n",
              "      <td>177</td>\n",
              "      <td>3</td>\n",
              "      <td>low</td>\n",
              "      <td>F</td>\n",
              "      <td>44</td>\n",
              "      <td>1233</td>\n",
              "      <td>1</td>\n",
              "    </tr>\n",
              "    <tr>\n",
              "      <th>1</th>\n",
              "      <td>2</td>\n",
              "      <td>F</td>\n",
              "      <td>Flight</td>\n",
              "      <td>4</td>\n",
              "      <td>5</td>\n",
              "      <td>216</td>\n",
              "      <td>2</td>\n",
              "      <td>low</td>\n",
              "      <td>M</td>\n",
              "      <td>59</td>\n",
              "      <td>3088</td>\n",
              "      <td>1</td>\n",
              "    </tr>\n",
              "    <tr>\n",
              "      <th>2</th>\n",
              "      <td>3</td>\n",
              "      <td>A</td>\n",
              "      <td>Flight</td>\n",
              "      <td>2</td>\n",
              "      <td>2</td>\n",
              "      <td>183</td>\n",
              "      <td>4</td>\n",
              "      <td>low</td>\n",
              "      <td>M</td>\n",
              "      <td>48</td>\n",
              "      <td>3374</td>\n",
              "      <td>1</td>\n",
              "    </tr>\n",
              "    <tr>\n",
              "      <th>3</th>\n",
              "      <td>4</td>\n",
              "      <td>B</td>\n",
              "      <td>Flight</td>\n",
              "      <td>3</td>\n",
              "      <td>3</td>\n",
              "      <td>176</td>\n",
              "      <td>4</td>\n",
              "      <td>medium</td>\n",
              "      <td>M</td>\n",
              "      <td>10</td>\n",
              "      <td>1177</td>\n",
              "      <td>1</td>\n",
              "    </tr>\n",
              "    <tr>\n",
              "      <th>4</th>\n",
              "      <td>5</td>\n",
              "      <td>C</td>\n",
              "      <td>Flight</td>\n",
              "      <td>2</td>\n",
              "      <td>2</td>\n",
              "      <td>184</td>\n",
              "      <td>3</td>\n",
              "      <td>medium</td>\n",
              "      <td>F</td>\n",
              "      <td>46</td>\n",
              "      <td>2484</td>\n",
              "      <td>1</td>\n",
              "    </tr>\n",
              "  </tbody>\n",
              "</table>\n",
              "</div>"
            ],
            "text/plain": [
              "   ID Warehouse_block  ... Weight_in_gms  Reached.on.Time_Y.N\n",
              "0   1               D  ...          1233                    1\n",
              "1   2               F  ...          3088                    1\n",
              "2   3               A  ...          3374                    1\n",
              "3   4               B  ...          1177                    1\n",
              "4   5               C  ...          2484                    1\n",
              "\n",
              "[5 rows x 12 columns]"
            ]
          },
          "execution_count": 6,
          "metadata": {},
          "output_type": "execute_result"
        }
      ]
    },
    {
      "cell_type": "markdown",
      "metadata": {
        "id": "SetnDXtjS_lm"
      },
      "source": [
        "## let's become one with data \n"
      ]
    },
    {
      "cell_type": "code",
      "metadata": {
        "colab": {
          "base_uri": "https://localhost:8080/"
        },
        "id": "ARjAxXjoSb60",
        "outputId": "55992f51-0a6b-48d6-fdb5-8f2d25a26bd6"
      },
      "source": [
        "# information of the dataset\n",
        "df.info()"
      ],
      "execution_count": null,
      "outputs": [
        {
          "name": "stdout",
          "output_type": "stream",
          "text": [
            "<class 'pandas.core.frame.DataFrame'>\n",
            "RangeIndex: 10999 entries, 0 to 10998\n",
            "Data columns (total 12 columns):\n",
            " #   Column               Non-Null Count  Dtype \n",
            "---  ------               --------------  ----- \n",
            " 0   ID                   10999 non-null  int64 \n",
            " 1   Warehouse_block      10999 non-null  object\n",
            " 2   Mode_of_Shipment     10999 non-null  object\n",
            " 3   Customer_care_calls  10999 non-null  int64 \n",
            " 4   Customer_rating      10999 non-null  int64 \n",
            " 5   Cost_of_the_Product  10999 non-null  int64 \n",
            " 6   Prior_purchases      10999 non-null  int64 \n",
            " 7   Product_importance   10999 non-null  object\n",
            " 8   Gender               10999 non-null  object\n",
            " 9   Discount_offered     10999 non-null  int64 \n",
            " 10  Weight_in_gms        10999 non-null  int64 \n",
            " 11  Reached.on.Time_Y.N  10999 non-null  int64 \n",
            "dtypes: int64(8), object(4)\n",
            "memory usage: 1.0+ MB\n"
          ]
        }
      ]
    },
    {
      "cell_type": "code",
      "metadata": {
        "colab": {
          "base_uri": "https://localhost:8080/",
          "height": 410
        },
        "id": "P0vLS9CYZAc3",
        "outputId": "a3478524-87bf-4712-8f88-59e23f1eb5fe"
      },
      "source": [
        "df.describe(include=\"all\")"
      ],
      "execution_count": null,
      "outputs": [
        {
          "data": {
            "text/html": [
              "<div>\n",
              "<style scoped>\n",
              "    .dataframe tbody tr th:only-of-type {\n",
              "        vertical-align: middle;\n",
              "    }\n",
              "\n",
              "    .dataframe tbody tr th {\n",
              "        vertical-align: top;\n",
              "    }\n",
              "\n",
              "    .dataframe thead th {\n",
              "        text-align: right;\n",
              "    }\n",
              "</style>\n",
              "<table border=\"1\" class=\"dataframe\">\n",
              "  <thead>\n",
              "    <tr style=\"text-align: right;\">\n",
              "      <th></th>\n",
              "      <th>Warehouse_block</th>\n",
              "      <th>Mode_of_Shipment</th>\n",
              "      <th>Customer_care_calls</th>\n",
              "      <th>Customer_rating</th>\n",
              "      <th>Cost_of_the_Product</th>\n",
              "      <th>Prior_purchases</th>\n",
              "      <th>Product_importance</th>\n",
              "      <th>Gender</th>\n",
              "      <th>Discount_offered</th>\n",
              "      <th>Weight_in_gms</th>\n",
              "      <th>Reached.on.Time_Y.N</th>\n",
              "    </tr>\n",
              "  </thead>\n",
              "  <tbody>\n",
              "    <tr>\n",
              "      <th>count</th>\n",
              "      <td>10999</td>\n",
              "      <td>10999</td>\n",
              "      <td>10999.000000</td>\n",
              "      <td>10999.000000</td>\n",
              "      <td>10999.000000</td>\n",
              "      <td>10999.000000</td>\n",
              "      <td>10999</td>\n",
              "      <td>10999</td>\n",
              "      <td>10999.000000</td>\n",
              "      <td>10999.000000</td>\n",
              "      <td>10999.000000</td>\n",
              "    </tr>\n",
              "    <tr>\n",
              "      <th>unique</th>\n",
              "      <td>5</td>\n",
              "      <td>3</td>\n",
              "      <td>NaN</td>\n",
              "      <td>NaN</td>\n",
              "      <td>NaN</td>\n",
              "      <td>NaN</td>\n",
              "      <td>3</td>\n",
              "      <td>2</td>\n",
              "      <td>NaN</td>\n",
              "      <td>NaN</td>\n",
              "      <td>NaN</td>\n",
              "    </tr>\n",
              "    <tr>\n",
              "      <th>top</th>\n",
              "      <td>F</td>\n",
              "      <td>Ship</td>\n",
              "      <td>NaN</td>\n",
              "      <td>NaN</td>\n",
              "      <td>NaN</td>\n",
              "      <td>NaN</td>\n",
              "      <td>low</td>\n",
              "      <td>F</td>\n",
              "      <td>NaN</td>\n",
              "      <td>NaN</td>\n",
              "      <td>NaN</td>\n",
              "    </tr>\n",
              "    <tr>\n",
              "      <th>freq</th>\n",
              "      <td>3666</td>\n",
              "      <td>7462</td>\n",
              "      <td>NaN</td>\n",
              "      <td>NaN</td>\n",
              "      <td>NaN</td>\n",
              "      <td>NaN</td>\n",
              "      <td>5297</td>\n",
              "      <td>5545</td>\n",
              "      <td>NaN</td>\n",
              "      <td>NaN</td>\n",
              "      <td>NaN</td>\n",
              "    </tr>\n",
              "    <tr>\n",
              "      <th>mean</th>\n",
              "      <td>NaN</td>\n",
              "      <td>NaN</td>\n",
              "      <td>4.054459</td>\n",
              "      <td>2.990545</td>\n",
              "      <td>210.196836</td>\n",
              "      <td>3.567597</td>\n",
              "      <td>NaN</td>\n",
              "      <td>NaN</td>\n",
              "      <td>13.373216</td>\n",
              "      <td>3634.016729</td>\n",
              "      <td>0.596691</td>\n",
              "    </tr>\n",
              "    <tr>\n",
              "      <th>std</th>\n",
              "      <td>NaN</td>\n",
              "      <td>NaN</td>\n",
              "      <td>1.141490</td>\n",
              "      <td>1.413603</td>\n",
              "      <td>48.063272</td>\n",
              "      <td>1.522860</td>\n",
              "      <td>NaN</td>\n",
              "      <td>NaN</td>\n",
              "      <td>16.205527</td>\n",
              "      <td>1635.377251</td>\n",
              "      <td>0.490584</td>\n",
              "    </tr>\n",
              "    <tr>\n",
              "      <th>min</th>\n",
              "      <td>NaN</td>\n",
              "      <td>NaN</td>\n",
              "      <td>2.000000</td>\n",
              "      <td>1.000000</td>\n",
              "      <td>96.000000</td>\n",
              "      <td>2.000000</td>\n",
              "      <td>NaN</td>\n",
              "      <td>NaN</td>\n",
              "      <td>1.000000</td>\n",
              "      <td>1001.000000</td>\n",
              "      <td>0.000000</td>\n",
              "    </tr>\n",
              "    <tr>\n",
              "      <th>25%</th>\n",
              "      <td>NaN</td>\n",
              "      <td>NaN</td>\n",
              "      <td>3.000000</td>\n",
              "      <td>2.000000</td>\n",
              "      <td>169.000000</td>\n",
              "      <td>3.000000</td>\n",
              "      <td>NaN</td>\n",
              "      <td>NaN</td>\n",
              "      <td>4.000000</td>\n",
              "      <td>1839.500000</td>\n",
              "      <td>0.000000</td>\n",
              "    </tr>\n",
              "    <tr>\n",
              "      <th>50%</th>\n",
              "      <td>NaN</td>\n",
              "      <td>NaN</td>\n",
              "      <td>4.000000</td>\n",
              "      <td>3.000000</td>\n",
              "      <td>214.000000</td>\n",
              "      <td>3.000000</td>\n",
              "      <td>NaN</td>\n",
              "      <td>NaN</td>\n",
              "      <td>7.000000</td>\n",
              "      <td>4149.000000</td>\n",
              "      <td>1.000000</td>\n",
              "    </tr>\n",
              "    <tr>\n",
              "      <th>75%</th>\n",
              "      <td>NaN</td>\n",
              "      <td>NaN</td>\n",
              "      <td>5.000000</td>\n",
              "      <td>4.000000</td>\n",
              "      <td>251.000000</td>\n",
              "      <td>4.000000</td>\n",
              "      <td>NaN</td>\n",
              "      <td>NaN</td>\n",
              "      <td>10.000000</td>\n",
              "      <td>5050.000000</td>\n",
              "      <td>1.000000</td>\n",
              "    </tr>\n",
              "    <tr>\n",
              "      <th>max</th>\n",
              "      <td>NaN</td>\n",
              "      <td>NaN</td>\n",
              "      <td>7.000000</td>\n",
              "      <td>5.000000</td>\n",
              "      <td>310.000000</td>\n",
              "      <td>10.000000</td>\n",
              "      <td>NaN</td>\n",
              "      <td>NaN</td>\n",
              "      <td>65.000000</td>\n",
              "      <td>7846.000000</td>\n",
              "      <td>1.000000</td>\n",
              "    </tr>\n",
              "  </tbody>\n",
              "</table>\n",
              "</div>"
            ],
            "text/plain": [
              "       Warehouse_block Mode_of_Shipment  ...  Weight_in_gms  Reached.on.Time_Y.N\n",
              "count            10999            10999  ...   10999.000000         10999.000000\n",
              "unique               5                3  ...            NaN                  NaN\n",
              "top                  F             Ship  ...            NaN                  NaN\n",
              "freq              3666             7462  ...            NaN                  NaN\n",
              "mean               NaN              NaN  ...    3634.016729             0.596691\n",
              "std                NaN              NaN  ...    1635.377251             0.490584\n",
              "min                NaN              NaN  ...    1001.000000             0.000000\n",
              "25%                NaN              NaN  ...    1839.500000             0.000000\n",
              "50%                NaN              NaN  ...    4149.000000             1.000000\n",
              "75%                NaN              NaN  ...    5050.000000             1.000000\n",
              "max                NaN              NaN  ...    7846.000000             1.000000\n",
              "\n",
              "[11 rows x 11 columns]"
            ]
          },
          "execution_count": 34,
          "metadata": {},
          "output_type": "execute_result"
        }
      ]
    },
    {
      "cell_type": "code",
      "metadata": {
        "colab": {
          "base_uri": "https://localhost:8080/"
        },
        "id": "CEKaDtcnTfdK",
        "outputId": "514210c7-7319-4db7-da25-18eb0329b584"
      },
      "source": [
        "# let's see the unique values present in the dataset \n",
        "df.nunique()"
      ],
      "execution_count": null,
      "outputs": [
        {
          "data": {
            "text/plain": [
              "ID                     10999\n",
              "Warehouse_block            5\n",
              "Mode_of_Shipment           3\n",
              "Customer_care_calls        6\n",
              "Customer_rating            5\n",
              "Cost_of_the_Product      215\n",
              "Prior_purchases            8\n",
              "Product_importance         3\n",
              "Gender                     2\n",
              "Discount_offered          65\n",
              "Weight_in_gms           4034\n",
              "Reached.on.Time_Y.N        2\n",
              "dtype: int64"
            ]
          },
          "execution_count": 10,
          "metadata": {},
          "output_type": "execute_result"
        }
      ]
    },
    {
      "cell_type": "code",
      "metadata": {
        "colab": {
          "base_uri": "https://localhost:8080/"
        },
        "id": "WbvMaiFrUP4_",
        "outputId": "4903aeb5-f5e0-4be3-b193-3b21683d26ce"
      },
      "source": [
        "# checking for null values \n",
        "df.isna().sum()"
      ],
      "execution_count": null,
      "outputs": [
        {
          "data": {
            "text/plain": [
              "ID                     0\n",
              "Warehouse_block        0\n",
              "Mode_of_Shipment       0\n",
              "Customer_care_calls    0\n",
              "Customer_rating        0\n",
              "Cost_of_the_Product    0\n",
              "Prior_purchases        0\n",
              "Product_importance     0\n",
              "Gender                 0\n",
              "Discount_offered       0\n",
              "Weight_in_gms          0\n",
              "Reached.on.Time_Y.N    0\n",
              "dtype: int64"
            ]
          },
          "execution_count": 11,
          "metadata": {},
          "output_type": "execute_result"
        }
      ]
    },
    {
      "cell_type": "markdown",
      "metadata": {
        "id": "ox-X-m2FTzRX"
      },
      "source": [
        "## Deleting the ID column because it doesn't make any sense in model building "
      ]
    },
    {
      "cell_type": "code",
      "metadata": {
        "id": "jjzutLe_T8qS"
      },
      "source": [
        "df.drop('ID', axis=1, inplace=True)"
      ],
      "execution_count": null,
      "outputs": []
    },
    {
      "cell_type": "code",
      "metadata": {
        "colab": {
          "base_uri": "https://localhost:8080/"
        },
        "id": "VTWJaEcuU3Y3",
        "outputId": "2f6b2ae6-af08-4dfd-bcd3-ea56c02b90fe"
      },
      "source": [
        "# let's divide the cat columns and numerical columns \n",
        "cat_col = df.select_dtypes('object').columns\n",
        "numeric_col = df.select_dtypes('int').columns \n",
        "print(f\"Cat columns are :\\n{cat_col}\")\n",
        "print(f\"\\nNumeric Columns are:\\n{numeric_col}\")"
      ],
      "execution_count": null,
      "outputs": [
        {
          "name": "stdout",
          "output_type": "stream",
          "text": [
            "Cat columns are :\n",
            "Index(['Warehouse_block', 'Mode_of_Shipment', 'Product_importance', 'Gender'], dtype='object')\n",
            "\n",
            "Numeric Columns are:\n",
            "Index(['Customer_care_calls', 'Customer_rating', 'Cost_of_the_Product',\n",
            "       'Prior_purchases', 'Discount_offered', 'Weight_in_gms',\n",
            "       'Reached.on.Time_Y.N'],\n",
            "      dtype='object')\n"
          ]
        }
      ]
    },
    {
      "cell_type": "code",
      "metadata": {
        "colab": {
          "base_uri": "https://localhost:8080/",
          "height": 224
        },
        "id": "LI7ZrpHbUXEJ",
        "outputId": "8ea94bc0-4f95-483b-9597-882f6482ecaf"
      },
      "source": [
        "# verifing\n",
        "df.head()"
      ],
      "execution_count": null,
      "outputs": [
        {
          "data": {
            "text/html": [
              "<div>\n",
              "<style scoped>\n",
              "    .dataframe tbody tr th:only-of-type {\n",
              "        vertical-align: middle;\n",
              "    }\n",
              "\n",
              "    .dataframe tbody tr th {\n",
              "        vertical-align: top;\n",
              "    }\n",
              "\n",
              "    .dataframe thead th {\n",
              "        text-align: right;\n",
              "    }\n",
              "</style>\n",
              "<table border=\"1\" class=\"dataframe\">\n",
              "  <thead>\n",
              "    <tr style=\"text-align: right;\">\n",
              "      <th></th>\n",
              "      <th>Warehouse_block</th>\n",
              "      <th>Mode_of_Shipment</th>\n",
              "      <th>Customer_care_calls</th>\n",
              "      <th>Customer_rating</th>\n",
              "      <th>Cost_of_the_Product</th>\n",
              "      <th>Prior_purchases</th>\n",
              "      <th>Product_importance</th>\n",
              "      <th>Gender</th>\n",
              "      <th>Discount_offered</th>\n",
              "      <th>Weight_in_gms</th>\n",
              "      <th>Reached.on.Time_Y.N</th>\n",
              "    </tr>\n",
              "  </thead>\n",
              "  <tbody>\n",
              "    <tr>\n",
              "      <th>0</th>\n",
              "      <td>D</td>\n",
              "      <td>Flight</td>\n",
              "      <td>4</td>\n",
              "      <td>2</td>\n",
              "      <td>177</td>\n",
              "      <td>3</td>\n",
              "      <td>low</td>\n",
              "      <td>F</td>\n",
              "      <td>44</td>\n",
              "      <td>1233</td>\n",
              "      <td>1</td>\n",
              "    </tr>\n",
              "    <tr>\n",
              "      <th>1</th>\n",
              "      <td>F</td>\n",
              "      <td>Flight</td>\n",
              "      <td>4</td>\n",
              "      <td>5</td>\n",
              "      <td>216</td>\n",
              "      <td>2</td>\n",
              "      <td>low</td>\n",
              "      <td>M</td>\n",
              "      <td>59</td>\n",
              "      <td>3088</td>\n",
              "      <td>1</td>\n",
              "    </tr>\n",
              "    <tr>\n",
              "      <th>2</th>\n",
              "      <td>A</td>\n",
              "      <td>Flight</td>\n",
              "      <td>2</td>\n",
              "      <td>2</td>\n",
              "      <td>183</td>\n",
              "      <td>4</td>\n",
              "      <td>low</td>\n",
              "      <td>M</td>\n",
              "      <td>48</td>\n",
              "      <td>3374</td>\n",
              "      <td>1</td>\n",
              "    </tr>\n",
              "    <tr>\n",
              "      <th>3</th>\n",
              "      <td>B</td>\n",
              "      <td>Flight</td>\n",
              "      <td>3</td>\n",
              "      <td>3</td>\n",
              "      <td>176</td>\n",
              "      <td>4</td>\n",
              "      <td>medium</td>\n",
              "      <td>M</td>\n",
              "      <td>10</td>\n",
              "      <td>1177</td>\n",
              "      <td>1</td>\n",
              "    </tr>\n",
              "    <tr>\n",
              "      <th>4</th>\n",
              "      <td>C</td>\n",
              "      <td>Flight</td>\n",
              "      <td>2</td>\n",
              "      <td>2</td>\n",
              "      <td>184</td>\n",
              "      <td>3</td>\n",
              "      <td>medium</td>\n",
              "      <td>F</td>\n",
              "      <td>46</td>\n",
              "      <td>2484</td>\n",
              "      <td>1</td>\n",
              "    </tr>\n",
              "  </tbody>\n",
              "</table>\n",
              "</div>"
            ],
            "text/plain": [
              "  Warehouse_block Mode_of_Shipment  ...  Weight_in_gms  Reached.on.Time_Y.N\n",
              "0               D           Flight  ...           1233                    1\n",
              "1               F           Flight  ...           3088                    1\n",
              "2               A           Flight  ...           3374                    1\n",
              "3               B           Flight  ...           1177                    1\n",
              "4               C           Flight  ...           2484                    1\n",
              "\n",
              "[5 rows x 11 columns]"
            ]
          },
          "execution_count": 13,
          "metadata": {},
          "output_type": "execute_result"
        }
      ]
    },
    {
      "cell_type": "code",
      "metadata": {
        "colab": {
          "base_uri": "https://localhost:8080/",
          "height": 514
        },
        "id": "fJUtzBfWUZrF",
        "outputId": "63d6e37a-f89c-47ca-90d8-feb9f895f847"
      },
      "source": [
        "in_df = df[numeric_col]\n",
        "fig, ax = plt.subplots(2,4, figsize=(16, 8))\n",
        "ax = ax.flatten()\n",
        "for i in range(7):\n",
        "    mean = in_df.iloc[:,i].mean()\n",
        "    median = np.median(in_df.iloc[:,i])\n",
        "    sns.kdeplot(in_df.iloc[:,i].values, ax=ax[i], shade=True)\n",
        "    ax[i].axvline(mean, color='g', linestyle='--', label='mean')\n",
        "    ax[i].axvline(median, color='b', linestyle='--', label='median')\n",
        "    ax[i].set_title(in_df.columns[i])\n",
        "    ax[i].legend()\n",
        "fig.tight_layout(pad=2.0)"
      ],
      "execution_count": null,
      "outputs": [
        {
          "data": {
            "image/png": "[encoded data removed]",
            "text/plain": [
              "<Figure size 1152x576 with 8 Axes>"
            ]
          },
          "metadata": {},
          "output_type": "display_data"
        }
      ]
    },
    {
      "cell_type": "code",
      "metadata": {
        "colab": {
          "base_uri": "https://localhost:8080/",
          "height": 498
        },
        "id": "7HnNVTt8VCV2",
        "outputId": "fb152ea9-c29a-4167-90d3-4d98ec7165c3"
      },
      "source": [
        "fig, ax = plt.subplots(2, 2, figsize=(14, 8))\n",
        "ax = ax.flatten()\n",
        "for i in range(4):\n",
        "    sns.countplot(ax=ax[i], data=df, x=cat_col[i], palette='plasma')\n",
        "plt.show()"
      ],
      "execution_count": null,
      "outputs": [
        {
          "data": {
            "image/png": "[encoded data removed]",
            "text/plain": [
              "<Figure size 1008x576 with 4 Axes>"
            ]
          },
          "metadata": {},
          "output_type": "display_data"
        }
      ]
    },
    {
      "cell_type": "code",
      "metadata": {
        "colab": {
          "base_uri": "https://localhost:8080/",
          "height": 443
        },
        "id": "1RGdVdcwXo4J",
        "outputId": "c7907739-1a4c-400d-82dc-e9d49ca016d6"
      },
      "source": [
        "# reachontime \n",
        "plt.subplots(1, 1, figsize=(8, 6))\n",
        "sns.countplot(df['Reached.on.Time_Y.N'], palette=\"plasma\")\n",
        "plt.show()"
      ],
      "execution_count": null,
      "outputs": [
        {
          "name": "stderr",
          "output_type": "stream",
          "text": [
            "/usr/local/lib/python3.7/dist-packages/seaborn/_decorators.py:43: FutureWarning: Pass the following variable as a keyword arg: x. From version 0.12, the only valid positional argument will be `data`, and passing other arguments without an explicit keyword will result in an error or misinterpretation.\n",
            "  FutureWarning\n"
          ]
        },
        {
          "data": {
            "image/png": "[encoded data removed]",
            "text/plain": [
              "<Figure size 576x432 with 1 Axes>"
            ]
          },
          "metadata": {},
          "output_type": "display_data"
        }
      ]
    },
    {
      "cell_type": "markdown",
      "metadata": {
        "id": "T1XBkl4AZJqw"
      },
      "source": [
        "## Modeling for finding the Reached.on.TIme.yN"
      ]
    },
    {
      "cell_type": "code",
      "metadata": {
        "colab": {
          "base_uri": "https://localhost:8080/",
          "height": 224
        },
        "id": "MVCR5ju3YcwB",
        "outputId": "f3a4a4a1-c5e5-4f39-c952-79507572d5a9"
      },
      "source": [
        "# preprocessing the data \n",
        "df_dummy = pd.get_dummies(df, drop_first=True)\n",
        "df_dummy.head()"
      ],
      "execution_count": null,
      "outputs": [
        {
          "data": {
            "text/html": [
              "<div>\n",
              "<style scoped>\n",
              "    .dataframe tbody tr th:only-of-type {\n",
              "        vertical-align: middle;\n",
              "    }\n",
              "\n",
              "    .dataframe tbody tr th {\n",
              "        vertical-align: top;\n",
              "    }\n",
              "\n",
              "    .dataframe thead th {\n",
              "        text-align: right;\n",
              "    }\n",
              "</style>\n",
              "<table border=\"1\" class=\"dataframe\">\n",
              "  <thead>\n",
              "    <tr style=\"text-align: right;\">\n",
              "      <th></th>\n",
              "      <th>Customer_care_calls</th>\n",
              "      <th>Customer_rating</th>\n",
              "      <th>Cost_of_the_Product</th>\n",
              "      <th>Prior_purchases</th>\n",
              "      <th>Discount_offered</th>\n",
              "      <th>Weight_in_gms</th>\n",
              "      <th>Reached.on.Time_Y.N</th>\n",
              "      <th>Warehouse_block_B</th>\n",
              "      <th>Warehouse_block_C</th>\n",
              "      <th>Warehouse_block_D</th>\n",
              "      <th>Warehouse_block_F</th>\n",
              "      <th>Mode_of_Shipment_Road</th>\n",
              "      <th>Mode_of_Shipment_Ship</th>\n",
              "      <th>Product_importance_low</th>\n",
              "      <th>Product_importance_medium</th>\n",
              "      <th>Gender_M</th>\n",
              "    </tr>\n",
              "  </thead>\n",
              "  <tbody>\n",
              "    <tr>\n",
              "      <th>0</th>\n",
              "      <td>4</td>\n",
              "      <td>2</td>\n",
              "      <td>177</td>\n",
              "      <td>3</td>\n",
              "      <td>44</td>\n",
              "      <td>1233</td>\n",
              "      <td>1</td>\n",
              "      <td>0</td>\n",
              "      <td>0</td>\n",
              "      <td>1</td>\n",
              "      <td>0</td>\n",
              "      <td>0</td>\n",
              "      <td>0</td>\n",
              "      <td>1</td>\n",
              "      <td>0</td>\n",
              "      <td>0</td>\n",
              "    </tr>\n",
              "    <tr>\n",
              "      <th>1</th>\n",
              "      <td>4</td>\n",
              "      <td>5</td>\n",
              "      <td>216</td>\n",
              "      <td>2</td>\n",
              "      <td>59</td>\n",
              "      <td>3088</td>\n",
              "      <td>1</td>\n",
              "      <td>0</td>\n",
              "      <td>0</td>\n",
              "      <td>0</td>\n",
              "      <td>1</td>\n",
              "      <td>0</td>\n",
              "      <td>0</td>\n",
              "      <td>1</td>\n",
              "      <td>0</td>\n",
              "      <td>1</td>\n",
              "    </tr>\n",
              "    <tr>\n",
              "      <th>2</th>\n",
              "      <td>2</td>\n",
              "      <td>2</td>\n",
              "      <td>183</td>\n",
              "      <td>4</td>\n",
              "      <td>48</td>\n",
              "      <td>3374</td>\n",
              "      <td>1</td>\n",
              "      <td>0</td>\n",
              "      <td>0</td>\n",
              "      <td>0</td>\n",
              "      <td>0</td>\n",
              "      <td>0</td>\n",
              "      <td>0</td>\n",
              "      <td>1</td>\n",
              "      <td>0</td>\n",
              "      <td>1</td>\n",
              "    </tr>\n",
              "    <tr>\n",
              "      <th>3</th>\n",
              "      <td>3</td>\n",
              "      <td>3</td>\n",
              "      <td>176</td>\n",
              "      <td>4</td>\n",
              "      <td>10</td>\n",
              "      <td>1177</td>\n",
              "      <td>1</td>\n",
              "      <td>1</td>\n",
              "      <td>0</td>\n",
              "      <td>0</td>\n",
              "      <td>0</td>\n",
              "      <td>0</td>\n",
              "      <td>0</td>\n",
              "      <td>0</td>\n",
              "      <td>1</td>\n",
              "      <td>1</td>\n",
              "    </tr>\n",
              "    <tr>\n",
              "      <th>4</th>\n",
              "      <td>2</td>\n",
              "      <td>2</td>\n",
              "      <td>184</td>\n",
              "      <td>3</td>\n",
              "      <td>46</td>\n",
              "      <td>2484</td>\n",
              "      <td>1</td>\n",
              "      <td>0</td>\n",
              "      <td>1</td>\n",
              "      <td>0</td>\n",
              "      <td>0</td>\n",
              "      <td>0</td>\n",
              "      <td>0</td>\n",
              "      <td>0</td>\n",
              "      <td>1</td>\n",
              "      <td>0</td>\n",
              "    </tr>\n",
              "  </tbody>\n",
              "</table>\n",
              "</div>"
            ],
            "text/plain": [
              "   Customer_care_calls  Customer_rating  ...  Product_importance_medium  Gender_M\n",
              "0                    4                2  ...                          0         0\n",
              "1                    4                5  ...                          0         1\n",
              "2                    2                2  ...                          0         1\n",
              "3                    3                3  ...                          1         1\n",
              "4                    2                2  ...                          1         0\n",
              "\n",
              "[5 rows x 16 columns]"
            ]
          },
          "execution_count": 36,
          "metadata": {},
          "output_type": "execute_result"
        }
      ]
    },
    {
      "cell_type": "code",
      "metadata": {
        "colab": {
          "base_uri": "https://localhost:8080/"
        },
        "id": "1h42HpINZcU0",
        "outputId": "20bbdd7f-3bc1-4b59-b3a1-7eaee4aba1a1"
      },
      "source": [
        "# print \n",
        "print(f'Shape of the dummy df {df_dummy.shape}')"
      ],
      "execution_count": null,
      "outputs": [
        {
          "name": "stdout",
          "output_type": "stream",
          "text": [
            "Shape of the dummy df (10999, 16)\n"
          ]
        }
      ]
    },
    {
      "cell_type": "code",
      "metadata": {
        "id": "FpTWHrNxZxMi"
      },
      "source": [
        "# importing libraries which gonna help in model building and modeling \n",
        "from sklearn.linear_model import LogisticRegression\n",
        "from sklearn.metrics import  classification_report, confusion_matrix, roc_auc_score, roc_curve\n",
        "from sklearn.model_selection import train_test_split\n",
        "from sklearn.tree import DecisionTreeClassifier\n",
        "from sklearn.ensemble import RandomForestClassifier\n",
        "from sklearn.model_selection import GridSearchCV"
      ],
      "execution_count": null,
      "outputs": []
    },
    {
      "cell_type": "code",
      "metadata": {
        "id": "GClF14b3aNfQ"
      },
      "source": [
        "X, y = df_dummy.drop('Reached.on.Time_Y.N', axis=1), df_dummy['Reached.on.Time_Y.N']\n",
        "X_train, X_test, y_train, y_test = train_test_split(X, y, test_size=0.2, random_state=1, stratify=y)"
      ],
      "execution_count": null,
      "outputs": []
    },
    {
      "cell_type": "code",
      "metadata": {
        "colab": {
          "base_uri": "https://localhost:8080/"
        },
        "id": "RXJtODx8azLT",
        "outputId": "982bb411-ffeb-477b-84cd-9ecaf9d0509c"
      },
      "source": [
        "print(f'Shape of the data {X_train.shape}, {X_test.shape}, {y_train.shape}, {y_test.shape}')"
      ],
      "execution_count": null,
      "outputs": [
        {
          "name": "stdout",
          "output_type": "stream",
          "text": [
            "Shape of the data (8799, 15), (2200, 15), (8799,), (2200,)\n"
          ]
        }
      ]
    },
    {
      "cell_type": "code",
      "metadata": {
        "colab": {
          "base_uri": "https://localhost:8080/"
        },
        "id": "uHrBlY1ybAcw",
        "outputId": "f61c66fa-a2af-4799-e28c-f44e3562bf62"
      },
      "source": [
        "# Logistic Regression \n",
        "\n",
        "## creating an instance of Logistic Regression \n",
        "logreg = LogisticRegression()\n",
        "\n",
        "## fitting a model to variables \n",
        "logreg.fit(X_train, y_train)\n",
        "print(logreg)"
      ],
      "execution_count": null,
      "outputs": [
        {
          "name": "stdout",
          "output_type": "stream",
          "text": [
            "LogisticRegression(C=1.0, class_weight=None, dual=False, fit_intercept=True,\n",
            "                   intercept_scaling=1, l1_ratio=None, max_iter=100,\n",
            "                   multi_class='auto', n_jobs=None, penalty='l2',\n",
            "                   random_state=None, solver='lbfgs', tol=0.0001, verbose=0,\n",
            "                   warm_start=False)\n"
          ]
        }
      ]
    },
    {
      "cell_type": "code",
      "metadata": {
        "id": "i2-YUxojbcX5"
      },
      "source": [
        "# predicting \n",
        "y_pred = logreg.predict(X_test)\n"
      ],
      "execution_count": null,
      "outputs": []
    },
    {
      "cell_type": "code",
      "metadata": {
        "id": "YG60xRsIbhhX"
      },
      "source": [
        "def metrix(y_true, y_pred):\n",
        "    print('Confusion matrix\\n', confusion_matrix(y_true, y_pred))\n",
        "    print('\\n\\nClassificaiton Report\\n', classification_report(y_true, y_pred))"
      ],
      "execution_count": null,
      "outputs": []
    },
    {
      "cell_type": "code",
      "metadata": {
        "colab": {
          "base_uri": "https://localhost:8080/"
        },
        "id": "HDhct9QUbyyP",
        "outputId": "614877cd-38ad-4ede-882a-1b026a02aec4"
      },
      "source": [
        "metrix(y_test, y_pred)"
      ],
      "execution_count": null,
      "outputs": [
        {
          "name": "stdout",
          "output_type": "stream",
          "text": [
            "Confusion matrix\n",
            " [[487 400]\n",
            " [443 870]]\n",
            "\n",
            "\n",
            "Classificaiton Report\n",
            "               precision    recall  f1-score   support\n",
            "\n",
            "           0       0.52      0.55      0.54       887\n",
            "           1       0.69      0.66      0.67      1313\n",
            "\n",
            "    accuracy                           0.62      2200\n",
            "   macro avg       0.60      0.61      0.60      2200\n",
            "weighted avg       0.62      0.62      0.62      2200\n",
            "\n"
          ]
        }
      ]
    },
    {
      "cell_type": "markdown",
      "metadata": {
        "id": "641HyeDLb08Y"
      },
      "source": [
        "## ROC Curve "
      ]
    },
    {
      "cell_type": "code",
      "metadata": {
        "id": "Ipvq6A-wcyil"
      },
      "source": [
        "# Here we have given you a function to plot ROC curve. Please understand the function.\n",
        "\n",
        "def draw_roc( actual, probs ):\n",
        "    fpr, tpr, thresholds = roc_curve( actual, probs,\n",
        "                                              drop_intermediate = False )\n",
        "    auc_score = roc_auc_score( actual, probs )\n",
        "    plt.figure(figsize=(6, 4))\n",
        "    plt.plot( fpr, tpr, label='ROC curve (area = %0.2f)' % auc_score )\n",
        "    plt.plot([0, 1], [0, 1], 'k--')\n",
        "    plt.xlim([0.0, 1.0])\n",
        "    plt.ylim([0.0, 1.05])\n",
        "    plt.xlabel('False Positive Rate or [1 - True Negative Rate]')\n",
        "    plt.ylabel('True Positive Rate')\n",
        "    plt.title('Receiver operating characteristic example')\n",
        "    plt.legend(loc=\"lower right\")\n",
        "    plt.show()\n",
        "\n",
        "    return fpr, tpr, thresholds"
      ],
      "execution_count": null,
      "outputs": []
    },
    {
      "cell_type": "code",
      "metadata": {
        "colab": {
          "base_uri": "https://localhost:8080/",
          "height": 295
        },
        "id": "2NLUQ4Bhczfv",
        "outputId": "a02897f5-8674-404c-8d05-fbfb72e7fde8"
      },
      "source": [
        "probs = logreg.predict_proba(X_test)\n",
        "fpr, tpr, thresholds = draw_roc(y_test, probs[:, 1])"
      ],
      "execution_count": null,
      "outputs": [
        {
          "data": {
            "image/png": "[encoded data removed]",
            "text/plain": [
              "<Figure size 432x288 with 1 Axes>"
            ]
          },
          "metadata": {},
          "output_type": "display_data"
        }
      ]
    },
    {
      "cell_type": "markdown",
      "metadata": {
        "id": "rCNWuvejewPK"
      },
      "source": [
        "## Decision Tree classifier "
      ]
    },
    {
      "cell_type": "code",
      "metadata": {
        "colab": {
          "base_uri": "https://localhost:8080/"
        },
        "id": "cE8dedR2etWg",
        "outputId": "20f5c3f8-c34b-4615-f4c0-05681d901786"
      },
      "source": [
        "dtc = DecisionTreeClassifier()\n",
        "dtc.fit(X_train, y_train)\n",
        "y_pred_dtc = dtc.predict(X_test)\n",
        "metrix(y_test, y_pred_dtc)\n"
      ],
      "execution_count": null,
      "outputs": [
        {
          "name": "stdout",
          "output_type": "stream",
          "text": [
            "Confusion matrix\n",
            " [[514 373]\n",
            " [411 902]]\n",
            "\n",
            "\n",
            "Classificaiton Report\n",
            "               precision    recall  f1-score   support\n",
            "\n",
            "           0       0.56      0.58      0.57       887\n",
            "           1       0.71      0.69      0.70      1313\n",
            "\n",
            "    accuracy                           0.64      2200\n",
            "   macro avg       0.63      0.63      0.63      2200\n",
            "weighted avg       0.65      0.64      0.64      2200\n",
            "\n"
          ]
        }
      ]
    },
    {
      "cell_type": "markdown",
      "metadata": {
        "id": "SVz8yrbDc72R"
      },
      "source": [
        "### RandomForestTree"
      ]
    },
    {
      "cell_type": "code",
      "metadata": {
        "colab": {
          "base_uri": "https://localhost:8080/"
        },
        "id": "Hz0tFBCKefEt",
        "outputId": "ee1741f8-98b6-4e2e-875d-2072fc38f5f7"
      },
      "source": [
        "# creating instance of the RandomForestTree as rft \n",
        "rft = RandomForestClassifier()\n",
        "rft.fit(X_train, y_train)\n",
        "y_pred_rft = rft.predict(X_test)\n",
        "metrix(y_test, y_pred_rft)"
      ],
      "execution_count": null,
      "outputs": [
        {
          "name": "stdout",
          "output_type": "stream",
          "text": [
            "Confusion matrix\n",
            " [[616 271]\n",
            " [485 828]]\n",
            "\n",
            "\n",
            "Classificaiton Report\n",
            "               precision    recall  f1-score   support\n",
            "\n",
            "           0       0.56      0.69      0.62       887\n",
            "           1       0.75      0.63      0.69      1313\n",
            "\n",
            "    accuracy                           0.66      2200\n",
            "   macro avg       0.66      0.66      0.65      2200\n",
            "weighted avg       0.68      0.66      0.66      2200\n",
            "\n"
          ]
        }
      ]
    },
    {
      "cell_type": "code",
      "metadata": {
        "colab": {
          "base_uri": "https://localhost:8080/",
          "height": 435
        },
        "id": "XdcnqREcfUdh",
        "outputId": "efcf3ea5-ce0f-412b-8c2a-8e3b933c43f1"
      },
      "source": [
        "sns.barplot(x=X_train.columns, y=rft.feature_importances_)\n",
        "plt.xticks(rotation=90)"
      ],
      "execution_count": null,
      "outputs": [
        {
          "data": {
            "text/plain": [
              "(array([ 0,  1,  2,  3,  4,  5,  6,  7,  8,  9, 10, 11, 12, 13, 14]),\n",
              " <a list of 15 Text major ticklabel objects>)"
            ]
          },
          "execution_count": 69,
          "metadata": {},
          "output_type": "execute_result"
        },
        {
          "data": {
            "image/png": "[encoded data removed]",
            "text/plain": [
              "<Figure size 432x288 with 1 Axes>"
            ]
          },
          "metadata": {},
          "output_type": "display_data"
        }
      ]
    },
    {
      "cell_type": "code",
      "metadata": {
        "colab": {
          "base_uri": "https://localhost:8080/"
        },
        "id": "XJOqpVfkfjzn",
        "outputId": "00c5d15c-6e53-4c52-baf1-87aed133a9a5"
      },
      "source": [
        "from sklearn.feature_selection import RFE\n",
        "rft = RandomForestClassifier()\n",
        "\n",
        " # Initialise RFE \n",
        "rfe = RFE(estimator= rft, n_features_to_select=6, step=1)       \n",
        "\n",
        "# fitting RFE \n",
        "rfe = rfe.fit(X, y)\n",
        "\n",
        "# Printing the boolean results\n",
        "print(rfe.support_)     \n",
        "# Printing the ranking\n",
        "print(rfe.ranking_) "
      ],
      "execution_count": null,
      "outputs": [
        {
          "name": "stdout",
          "output_type": "stream",
          "text": [
            "[ True  True  True  True  True  True False False False False False False\n",
            " False False False]\n",
            "[ 1  1  1  1  1  1 10  6  7  5  9  4  3  8  2]\n"
          ]
        }
      ]
    },
    {
      "cell_type": "code",
      "metadata": {
        "colab": {
          "base_uri": "https://localhost:8080/"
        },
        "id": "f2aGE-ulgBGr",
        "outputId": "227632ec-d681-4bd2-f7d7-c4c33b2bf8ef"
      },
      "source": [
        "new_col = X_train.columns[rfe.support_]\n",
        "print(new_col)"
      ],
      "execution_count": null,
      "outputs": [
        {
          "name": "stdout",
          "output_type": "stream",
          "text": [
            "Index(['Customer_care_calls', 'Customer_rating', 'Cost_of_the_Product',\n",
            "       'Prior_purchases', 'Discount_offered', 'Weight_in_gms'],\n",
            "      dtype='object')\n"
          ]
        }
      ]
    },
    {
      "cell_type": "code",
      "metadata": {
        "id": "3B9eoMEJgHv-"
      },
      "source": [
        "rft = RandomForestClassifier()\n",
        "rft.fit(X_train[new_col], y_train)\n",
        "y_pred = rft.predict(X_test[new_col])"
      ],
      "execution_count": null,
      "outputs": []
    },
    {
      "cell_type": "code",
      "metadata": {
        "colab": {
          "base_uri": "https://localhost:8080/"
        },
        "id": "w7ZiYEcEgYMJ",
        "outputId": "a9570054-a148-4d22-d15a-2658d3c73feb"
      },
      "source": [
        "metrix(y_test, y_pred)"
      ],
      "execution_count": null,
      "outputs": [
        {
          "name": "stdout",
          "output_type": "stream",
          "text": [
            "Confusion matrix\n",
            " [[614 273]\n",
            " [475 838]]\n",
            "\n",
            "\n",
            "Classificaiton Report\n",
            "               precision    recall  f1-score   support\n",
            "\n",
            "           0       0.56      0.69      0.62       887\n",
            "           1       0.75      0.64      0.69      1313\n",
            "\n",
            "    accuracy                           0.66      2200\n",
            "   macro avg       0.66      0.67      0.66      2200\n",
            "weighted avg       0.68      0.66      0.66      2200\n",
            "\n"
          ]
        }
      ]
    },
    {
      "cell_type": "code",
      "metadata": {
        "id": "w4XfloSqgxKZ"
      },
      "source": [
        "# Grid search cv \n",
        "\n",
        "#params = {\n",
        "#    'max_depth' : [4,5,10,20,None],\n",
        "#    'min_samples_split' : [2,3,4,5],\n",
        "#    'max_leaf_nodes' : [2,5,10,None]\n",
        "#}\n",
        "#gv = GridSearchCV(estimator=RandomForestClassifier(), \n",
        "#                  param_grid = params, \n",
        "#                  return_train_score=True, \n",
        "#                  verbose=1)"
      ],
      "execution_count": null,
      "outputs": []
    },
    {
      "cell_type": "code",
      "metadata": {
        "colab": {
          "base_uri": "https://localhost:8080/"
        },
        "id": "p5nszLGshOrx",
        "outputId": "51783ae9-bd18-4050-ff00-178d1edac4a9"
      },
      "source": [
        "#gv.fit(X_train[new_col], y_train)"
      ],
      "execution_count": null,
      "outputs": [
        {
          "output_type": "stream",
          "text": [
            "Fitting 5 folds for each of 80 candidates, totalling 400 fits\n"
          ],
          "name": "stdout"
        },
        {
          "output_type": "stream",
          "text": [
            "[Parallel(n_jobs=1)]: Using backend SequentialBackend with 1 concurrent workers.\n",
            "[Parallel(n_jobs=1)]: Done 400 out of 400 | elapsed:  3.2min finished\n"
          ],
          "name": "stderr"
        },
        {
          "output_type": "execute_result",
          "data": {
            "text/plain": [
              "GridSearchCV(cv=None, error_score=nan,\n",
              "             estimator=RandomForestClassifier(bootstrap=True, ccp_alpha=0.0,\n",
              "                                              class_weight=None,\n",
              "                                              criterion='gini', max_depth=None,\n",
              "                                              max_features='auto',\n",
              "                                              max_leaf_nodes=None,\n",
              "                                              max_samples=None,\n",
              "                                              min_impurity_decrease=0.0,\n",
              "                                              min_impurity_split=None,\n",
              "                                              min_samples_leaf=1,\n",
              "                                              min_samples_split=2,\n",
              "                                              min_weight_fraction_leaf=0.0,\n",
              "                                              n_estimators=100, n_jobs=None,\n",
              "                                              oob_score=False,\n",
              "                                              random_state=None, verbose=0,\n",
              "                                              warm_start=False),\n",
              "             iid='deprecated', n_jobs=None,\n",
              "             param_grid={'max_depth': [4, 5, 10, 20, None],\n",
              "                         'max_leaf_nodes': [2, 5, 10, None],\n",
              "                         'min_samples_split': [2, 3, 4, 5]},\n",
              "             pre_dispatch='2*n_jobs', refit=True, return_train_score=True,\n",
              "             scoring=None, verbose=1)"
            ]
          },
          "metadata": {},
          "execution_count": 85
        }
      ]
    },
    {
      "cell_type": "code",
      "metadata": {
        "id": "W7N9wUoyhSi5",
        "colab": {
          "base_uri": "https://localhost:8080/"
        },
        "outputId": "9953f5d8-a29d-4bfa-f2f0-a258b5b7ca10"
      },
      "source": [
        "#gv.best_score_"
      ],
      "execution_count": null,
      "outputs": [
        {
          "output_type": "execute_result",
          "data": {
            "text/plain": [
              "0.6882619256809137"
            ]
          },
          "metadata": {},
          "execution_count": 86
        }
      ]
    },
    {
      "cell_type": "code",
      "metadata": {
        "id": "SMQssTI6iNRU",
        "colab": {
          "base_uri": "https://localhost:8080/"
        },
        "outputId": "792516c5-41ff-4582-bcd9-1499813a4ba3"
      },
      "source": [
        "#gv.best_params_"
      ],
      "execution_count": null,
      "outputs": [
        {
          "output_type": "execute_result",
          "data": {
            "text/plain": [
              "{'max_depth': 5, 'max_leaf_nodes': None, 'min_samples_split': 2}"
            ]
          },
          "metadata": {},
          "execution_count": 87
        }
      ]
    },
    {
      "cell_type": "code",
      "metadata": {
        "id": "BqXkq9OYtdld"
      },
      "source": [
        "rf = RandomForestClassifier(max_depth=5, max_leaf_nodes=None, min_samples_split=2,n_estimators=200)"
      ],
      "execution_count": null,
      "outputs": []
    },
    {
      "cell_type": "code",
      "metadata": {
        "colab": {
          "base_uri": "https://localhost:8080/"
        },
        "id": "YD1MnW-Rtre-",
        "outputId": "d78d9dd0-7bc9-47d5-8818-bc15914de9a2"
      },
      "source": [
        "rf.fit(X_train, y_train)"
      ],
      "execution_count": null,
      "outputs": [
        {
          "output_type": "execute_result",
          "data": {
            "text/plain": [
              "RandomForestClassifier(bootstrap=True, ccp_alpha=0.0, class_weight=None,\n",
              "                       criterion='gini', max_depth=5, max_features='auto',\n",
              "                       max_leaf_nodes=None, max_samples=None,\n",
              "                       min_impurity_decrease=0.0, min_impurity_split=None,\n",
              "                       min_samples_leaf=1, min_samples_split=2,\n",
              "                       min_weight_fraction_leaf=0.0, n_estimators=200,\n",
              "                       n_jobs=None, oob_score=False, random_state=None,\n",
              "                       verbose=0, warm_start=False)"
            ]
          },
          "metadata": {},
          "execution_count": 89
        }
      ]
    },
    {
      "cell_type": "code",
      "metadata": {
        "id": "b_mkxgnLttlN"
      },
      "source": [
        "y_pred = rf.predict(X_test)"
      ],
      "execution_count": null,
      "outputs": []
    },
    {
      "cell_type": "code",
      "metadata": {
        "colab": {
          "base_uri": "https://localhost:8080/"
        },
        "id": "EsqhHNu2tyAh",
        "outputId": "108bfd4e-44d4-4bcc-cfc0-4e1ef54a5ca5"
      },
      "source": [
        "metrix(y_test, y_pred)"
      ],
      "execution_count": null,
      "outputs": [
        {
          "output_type": "stream",
          "text": [
            "Confusion matrix\n",
            " [[708 179]\n",
            " [556 757]]\n",
            "\n",
            "\n",
            "Classificaiton Report\n",
            "               precision    recall  f1-score   support\n",
            "\n",
            "           0       0.56      0.80      0.66       887\n",
            "           1       0.81      0.58      0.67      1313\n",
            "\n",
            "    accuracy                           0.67      2200\n",
            "   macro avg       0.68      0.69      0.67      2200\n",
            "weighted avg       0.71      0.67      0.67      2200\n",
            "\n"
          ],
          "name": "stdout"
        }
      ]
    },
    {
      "cell_type": "code",
      "metadata": {
        "colab": {
          "base_uri": "https://localhost:8080/",
          "height": 295
        },
        "id": "rC--_fgWt1VC",
        "outputId": "b3a1873c-069b-4daf-acf0-83b0f05ce3ce"
      },
      "source": [
        "probs = rf.predict_proba(X_test)\n",
        "fpr, tpr, thresholds = draw_roc(y_test, probs[:, 1])"
      ],
      "execution_count": null,
      "outputs": [
        {
          "output_type": "display_data",
          "data": {
            "image/png": "[encoded data removed]",
            "text/plain": [
              "<Figure size 432x288 with 1 Axes>"
            ]
          },
          "metadata": {
            "needs_background": "light"
          }
        }
      ]
    },
    {
      "cell_type": "code",
      "metadata": {
        "colab": {
          "base_uri": "https://localhost:8080/",
          "height": 419
        },
        "id": "ttwjvKC5um6j",
        "outputId": "7fba29f3-9e77-4cde-b9f5-9faeb2a00383"
      },
      "source": [
        "## Analysizing the threshold \n",
        "y_test_df = pd.DataFrame(y_test)\n",
        "y_test_df['id'] = y_test.index\n",
        "y_test_df.reset_index(drop=True, inplace=True)\n",
        "#y_pred.reset_index(drop=True, inplace=True)\n",
        "y_pred_final = pd.concat([y_test_df, pd.Series(probs[:, 1])], axis=1)\n",
        "y_pred_final"
      ],
      "execution_count": null,
      "outputs": [
        {
          "output_type": "execute_result",
          "data": {
            "text/html": [
              "<div>\n",
              "<style scoped>\n",
              "    .dataframe tbody tr th:only-of-type {\n",
              "        vertical-align: middle;\n",
              "    }\n",
              "\n",
              "    .dataframe tbody tr th {\n",
              "        vertical-align: top;\n",
              "    }\n",
              "\n",
              "    .dataframe thead th {\n",
              "        text-align: right;\n",
              "    }\n",
              "</style>\n",
              "<table border=\"1\" class=\"dataframe\">\n",
              "  <thead>\n",
              "    <tr style=\"text-align: right;\">\n",
              "      <th></th>\n",
              "      <th>Reached.on.Time_Y.N</th>\n",
              "      <th>id</th>\n",
              "      <th>0</th>\n",
              "    </tr>\n",
              "  </thead>\n",
              "  <tbody>\n",
              "    <tr>\n",
              "      <th>0</th>\n",
              "      <td>1</td>\n",
              "      <td>3732</td>\n",
              "      <td>0.454268</td>\n",
              "    </tr>\n",
              "    <tr>\n",
              "      <th>1</th>\n",
              "      <td>1</td>\n",
              "      <td>1245</td>\n",
              "      <td>0.947378</td>\n",
              "    </tr>\n",
              "    <tr>\n",
              "      <th>2</th>\n",
              "      <td>1</td>\n",
              "      <td>535</td>\n",
              "      <td>0.892503</td>\n",
              "    </tr>\n",
              "    <tr>\n",
              "      <th>3</th>\n",
              "      <td>1</td>\n",
              "      <td>4700</td>\n",
              "      <td>0.460128</td>\n",
              "    </tr>\n",
              "    <tr>\n",
              "      <th>4</th>\n",
              "      <td>1</td>\n",
              "      <td>3459</td>\n",
              "      <td>0.466586</td>\n",
              "    </tr>\n",
              "    <tr>\n",
              "      <th>...</th>\n",
              "      <td>...</td>\n",
              "      <td>...</td>\n",
              "      <td>...</td>\n",
              "    </tr>\n",
              "    <tr>\n",
              "      <th>2195</th>\n",
              "      <td>1</td>\n",
              "      <td>1677</td>\n",
              "      <td>0.956252</td>\n",
              "    </tr>\n",
              "    <tr>\n",
              "      <th>2196</th>\n",
              "      <td>1</td>\n",
              "      <td>7767</td>\n",
              "      <td>0.506180</td>\n",
              "    </tr>\n",
              "    <tr>\n",
              "      <th>2197</th>\n",
              "      <td>1</td>\n",
              "      <td>9307</td>\n",
              "      <td>0.485428</td>\n",
              "    </tr>\n",
              "    <tr>\n",
              "      <th>2198</th>\n",
              "      <td>1</td>\n",
              "      <td>1734</td>\n",
              "      <td>0.957275</td>\n",
              "    </tr>\n",
              "    <tr>\n",
              "      <th>2199</th>\n",
              "      <td>1</td>\n",
              "      <td>9286</td>\n",
              "      <td>0.462759</td>\n",
              "    </tr>\n",
              "  </tbody>\n",
              "</table>\n",
              "<p>2200 rows × 3 columns</p>\n",
              "</div>"
            ],
            "text/plain": [
              "      Reached.on.Time_Y.N    id         0\n",
              "0                       1  3732  0.454268\n",
              "1                       1  1245  0.947378\n",
              "2                       1   535  0.892503\n",
              "3                       1  4700  0.460128\n",
              "4                       1  3459  0.466586\n",
              "...                   ...   ...       ...\n",
              "2195                    1  1677  0.956252\n",
              "2196                    1  7767  0.506180\n",
              "2197                    1  9307  0.485428\n",
              "2198                    1  1734  0.957275\n",
              "2199                    1  9286  0.462759\n",
              "\n",
              "[2200 rows x 3 columns]"
            ]
          },
          "metadata": {},
          "execution_count": 102
        }
      ]
    },
    {
      "cell_type": "code",
      "metadata": {
        "id": "TH-o640_vPqh"
      },
      "source": [
        "y_pred_final.columns = [\"Reach?\", \"id\", \"pred\"]"
      ],
      "execution_count": null,
      "outputs": []
    },
    {
      "cell_type": "code",
      "metadata": {
        "colab": {
          "base_uri": "https://localhost:8080/",
          "height": 204
        },
        "id": "kla2sNtWvnOO",
        "outputId": "6d7fb848-60a9-47a3-a9a9-d961d778b6ce"
      },
      "source": [
        "y_pred_final.head()"
      ],
      "execution_count": null,
      "outputs": [
        {
          "output_type": "execute_result",
          "data": {
            "text/html": [
              "<div>\n",
              "<style scoped>\n",
              "    .dataframe tbody tr th:only-of-type {\n",
              "        vertical-align: middle;\n",
              "    }\n",
              "\n",
              "    .dataframe tbody tr th {\n",
              "        vertical-align: top;\n",
              "    }\n",
              "\n",
              "    .dataframe thead th {\n",
              "        text-align: right;\n",
              "    }\n",
              "</style>\n",
              "<table border=\"1\" class=\"dataframe\">\n",
              "  <thead>\n",
              "    <tr style=\"text-align: right;\">\n",
              "      <th></th>\n",
              "      <th>Reach?</th>\n",
              "      <th>id</th>\n",
              "      <th>pred</th>\n",
              "    </tr>\n",
              "  </thead>\n",
              "  <tbody>\n",
              "    <tr>\n",
              "      <th>0</th>\n",
              "      <td>1</td>\n",
              "      <td>3732</td>\n",
              "      <td>0.454268</td>\n",
              "    </tr>\n",
              "    <tr>\n",
              "      <th>1</th>\n",
              "      <td>1</td>\n",
              "      <td>1245</td>\n",
              "      <td>0.947378</td>\n",
              "    </tr>\n",
              "    <tr>\n",
              "      <th>2</th>\n",
              "      <td>1</td>\n",
              "      <td>535</td>\n",
              "      <td>0.892503</td>\n",
              "    </tr>\n",
              "    <tr>\n",
              "      <th>3</th>\n",
              "      <td>1</td>\n",
              "      <td>4700</td>\n",
              "      <td>0.460128</td>\n",
              "    </tr>\n",
              "    <tr>\n",
              "      <th>4</th>\n",
              "      <td>1</td>\n",
              "      <td>3459</td>\n",
              "      <td>0.466586</td>\n",
              "    </tr>\n",
              "  </tbody>\n",
              "</table>\n",
              "</div>"
            ],
            "text/plain": [
              "   Reach?    id      pred\n",
              "0       1  3732  0.454268\n",
              "1       1  1245  0.947378\n",
              "2       1   535  0.892503\n",
              "3       1  4700  0.460128\n",
              "4       1  3459  0.466586"
            ]
          },
          "metadata": {},
          "execution_count": 104
        }
      ]
    },
    {
      "cell_type": "code",
      "metadata": {
        "id": "AF2sUQf4vp0m"
      },
      "source": [
        "y_pred_final = y_pred_final.reindex([i for i in range(0, len(y_pred_final))])"
      ],
      "execution_count": null,
      "outputs": []
    },
    {
      "cell_type": "code",
      "metadata": {
        "colab": {
          "base_uri": "https://localhost:8080/",
          "height": 204
        },
        "id": "_evXtL0WvuqB",
        "outputId": "fe214233-6dfb-44df-f615-3c8fecf90bd2"
      },
      "source": [
        "y_pred_final.head()"
      ],
      "execution_count": null,
      "outputs": [
        {
          "output_type": "execute_result",
          "data": {
            "text/html": [
              "<div>\n",
              "<style scoped>\n",
              "    .dataframe tbody tr th:only-of-type {\n",
              "        vertical-align: middle;\n",
              "    }\n",
              "\n",
              "    .dataframe tbody tr th {\n",
              "        vertical-align: top;\n",
              "    }\n",
              "\n",
              "    .dataframe thead th {\n",
              "        text-align: right;\n",
              "    }\n",
              "</style>\n",
              "<table border=\"1\" class=\"dataframe\">\n",
              "  <thead>\n",
              "    <tr style=\"text-align: right;\">\n",
              "      <th></th>\n",
              "      <th>Reach?</th>\n",
              "      <th>id</th>\n",
              "      <th>pred</th>\n",
              "    </tr>\n",
              "  </thead>\n",
              "  <tbody>\n",
              "    <tr>\n",
              "      <th>0</th>\n",
              "      <td>1</td>\n",
              "      <td>3732</td>\n",
              "      <td>0.454268</td>\n",
              "    </tr>\n",
              "    <tr>\n",
              "      <th>1</th>\n",
              "      <td>1</td>\n",
              "      <td>1245</td>\n",
              "      <td>0.947378</td>\n",
              "    </tr>\n",
              "    <tr>\n",
              "      <th>2</th>\n",
              "      <td>1</td>\n",
              "      <td>535</td>\n",
              "      <td>0.892503</td>\n",
              "    </tr>\n",
              "    <tr>\n",
              "      <th>3</th>\n",
              "      <td>1</td>\n",
              "      <td>4700</td>\n",
              "      <td>0.460128</td>\n",
              "    </tr>\n",
              "    <tr>\n",
              "      <th>4</th>\n",
              "      <td>1</td>\n",
              "      <td>3459</td>\n",
              "      <td>0.466586</td>\n",
              "    </tr>\n",
              "  </tbody>\n",
              "</table>\n",
              "</div>"
            ],
            "text/plain": [
              "   Reach?    id      pred\n",
              "0       1  3732  0.454268\n",
              "1       1  1245  0.947378\n",
              "2       1   535  0.892503\n",
              "3       1  4700  0.460128\n",
              "4       1  3459  0.466586"
            ]
          },
          "metadata": {},
          "execution_count": 106
        }
      ]
    },
    {
      "cell_type": "code",
      "metadata": {
        "id": "NPBbWyb5vwVp"
      },
      "source": [
        "y_pred_final['predicted_1'] = y_pred_final['pred']>0.5\n",
        "y_pred_final['predicted_1'] = y_pred_final['predicted_1'].map({True:1, False:0})"
      ],
      "execution_count": null,
      "outputs": []
    },
    {
      "cell_type": "code",
      "metadata": {
        "colab": {
          "base_uri": "https://localhost:8080/",
          "height": 204
        },
        "id": "M4rLeWnxwR50",
        "outputId": "67118e57-9b04-4ac1-d269-10313fa205a5"
      },
      "source": [
        "y_pred_final.head()"
      ],
      "execution_count": null,
      "outputs": [
        {
          "output_type": "execute_result",
          "data": {
            "text/html": [
              "<div>\n",
              "<style scoped>\n",
              "    .dataframe tbody tr th:only-of-type {\n",
              "        vertical-align: middle;\n",
              "    }\n",
              "\n",
              "    .dataframe tbody tr th {\n",
              "        vertical-align: top;\n",
              "    }\n",
              "\n",
              "    .dataframe thead th {\n",
              "        text-align: right;\n",
              "    }\n",
              "</style>\n",
              "<table border=\"1\" class=\"dataframe\">\n",
              "  <thead>\n",
              "    <tr style=\"text-align: right;\">\n",
              "      <th></th>\n",
              "      <th>Reach?</th>\n",
              "      <th>id</th>\n",
              "      <th>pred</th>\n",
              "      <th>predicted_1</th>\n",
              "    </tr>\n",
              "  </thead>\n",
              "  <tbody>\n",
              "    <tr>\n",
              "      <th>0</th>\n",
              "      <td>1</td>\n",
              "      <td>3732</td>\n",
              "      <td>0.454268</td>\n",
              "      <td>0</td>\n",
              "    </tr>\n",
              "    <tr>\n",
              "      <th>1</th>\n",
              "      <td>1</td>\n",
              "      <td>1245</td>\n",
              "      <td>0.947378</td>\n",
              "      <td>1</td>\n",
              "    </tr>\n",
              "    <tr>\n",
              "      <th>2</th>\n",
              "      <td>1</td>\n",
              "      <td>535</td>\n",
              "      <td>0.892503</td>\n",
              "      <td>1</td>\n",
              "    </tr>\n",
              "    <tr>\n",
              "      <th>3</th>\n",
              "      <td>1</td>\n",
              "      <td>4700</td>\n",
              "      <td>0.460128</td>\n",
              "      <td>0</td>\n",
              "    </tr>\n",
              "    <tr>\n",
              "      <th>4</th>\n",
              "      <td>1</td>\n",
              "      <td>3459</td>\n",
              "      <td>0.466586</td>\n",
              "      <td>0</td>\n",
              "    </tr>\n",
              "  </tbody>\n",
              "</table>\n",
              "</div>"
            ],
            "text/plain": [
              "   Reach?    id      pred  predicted_1\n",
              "0       1  3732  0.454268            0\n",
              "1       1  1245  0.947378            1\n",
              "2       1   535  0.892503            1\n",
              "3       1  4700  0.460128            0\n",
              "4       1  3459  0.466586            0"
            ]
          },
          "metadata": {},
          "execution_count": 108
        }
      ]
    },
    {
      "cell_type": "code",
      "metadata": {
        "colab": {
          "base_uri": "https://localhost:8080/",
          "height": 204
        },
        "id": "Zd9bLJ-mwp8W",
        "outputId": "7abc84a1-b6b5-4e26-8363-1e401b481717"
      },
      "source": [
        "# Let's create columns with different probability cutoffs \n",
        "\n",
        "numbers = [float(x)/10 for x in range(10)]\n",
        "\n",
        "# loop numbers and append churn probability to y_pred_final for different prob cutoff \n",
        "for i in numbers:\n",
        "    y_pred_final[i]= y_pred_final['pred']>i\n",
        "    y_pred_final[i] = y_pred_final[i].map({True:1, False:0})\n",
        "\n",
        "    \n",
        "# print  y_pred_final head\n",
        "y_pred_final.head()"
      ],
      "execution_count": null,
      "outputs": [
        {
          "output_type": "execute_result",
          "data": {
            "text/html": [
              "<div>\n",
              "<style scoped>\n",
              "    .dataframe tbody tr th:only-of-type {\n",
              "        vertical-align: middle;\n",
              "    }\n",
              "\n",
              "    .dataframe tbody tr th {\n",
              "        vertical-align: top;\n",
              "    }\n",
              "\n",
              "    .dataframe thead th {\n",
              "        text-align: right;\n",
              "    }\n",
              "</style>\n",
              "<table border=\"1\" class=\"dataframe\">\n",
              "  <thead>\n",
              "    <tr style=\"text-align: right;\">\n",
              "      <th></th>\n",
              "      <th>Reach?</th>\n",
              "      <th>id</th>\n",
              "      <th>pred</th>\n",
              "      <th>predicted_1</th>\n",
              "      <th>0.0</th>\n",
              "      <th>0.1</th>\n",
              "      <th>0.2</th>\n",
              "      <th>0.3</th>\n",
              "      <th>0.4</th>\n",
              "      <th>0.5</th>\n",
              "      <th>0.6</th>\n",
              "      <th>0.7</th>\n",
              "      <th>0.8</th>\n",
              "      <th>0.9</th>\n",
              "    </tr>\n",
              "  </thead>\n",
              "  <tbody>\n",
              "    <tr>\n",
              "      <th>0</th>\n",
              "      <td>1</td>\n",
              "      <td>3732</td>\n",
              "      <td>0.454268</td>\n",
              "      <td>0</td>\n",
              "      <td>1</td>\n",
              "      <td>1</td>\n",
              "      <td>1</td>\n",
              "      <td>1</td>\n",
              "      <td>1</td>\n",
              "      <td>0</td>\n",
              "      <td>0</td>\n",
              "      <td>0</td>\n",
              "      <td>0</td>\n",
              "      <td>0</td>\n",
              "    </tr>\n",
              "    <tr>\n",
              "      <th>1</th>\n",
              "      <td>1</td>\n",
              "      <td>1245</td>\n",
              "      <td>0.947378</td>\n",
              "      <td>1</td>\n",
              "      <td>1</td>\n",
              "      <td>1</td>\n",
              "      <td>1</td>\n",
              "      <td>1</td>\n",
              "      <td>1</td>\n",
              "      <td>1</td>\n",
              "      <td>1</td>\n",
              "      <td>1</td>\n",
              "      <td>1</td>\n",
              "      <td>1</td>\n",
              "    </tr>\n",
              "    <tr>\n",
              "      <th>2</th>\n",
              "      <td>1</td>\n",
              "      <td>535</td>\n",
              "      <td>0.892503</td>\n",
              "      <td>1</td>\n",
              "      <td>1</td>\n",
              "      <td>1</td>\n",
              "      <td>1</td>\n",
              "      <td>1</td>\n",
              "      <td>1</td>\n",
              "      <td>1</td>\n",
              "      <td>1</td>\n",
              "      <td>1</td>\n",
              "      <td>1</td>\n",
              "      <td>0</td>\n",
              "    </tr>\n",
              "    <tr>\n",
              "      <th>3</th>\n",
              "      <td>1</td>\n",
              "      <td>4700</td>\n",
              "      <td>0.460128</td>\n",
              "      <td>0</td>\n",
              "      <td>1</td>\n",
              "      <td>1</td>\n",
              "      <td>1</td>\n",
              "      <td>1</td>\n",
              "      <td>1</td>\n",
              "      <td>0</td>\n",
              "      <td>0</td>\n",
              "      <td>0</td>\n",
              "      <td>0</td>\n",
              "      <td>0</td>\n",
              "    </tr>\n",
              "    <tr>\n",
              "      <th>4</th>\n",
              "      <td>1</td>\n",
              "      <td>3459</td>\n",
              "      <td>0.466586</td>\n",
              "      <td>0</td>\n",
              "      <td>1</td>\n",
              "      <td>1</td>\n",
              "      <td>1</td>\n",
              "      <td>1</td>\n",
              "      <td>1</td>\n",
              "      <td>0</td>\n",
              "      <td>0</td>\n",
              "      <td>0</td>\n",
              "      <td>0</td>\n",
              "      <td>0</td>\n",
              "    </tr>\n",
              "  </tbody>\n",
              "</table>\n",
              "</div>"
            ],
            "text/plain": [
              "   Reach?    id      pred  predicted_1  0.0  0.1  ...  0.4  0.5  0.6  0.7  0.8  0.9\n",
              "0       1  3732  0.454268            0    1    1  ...    1    0    0    0    0    0\n",
              "1       1  1245  0.947378            1    1    1  ...    1    1    1    1    1    1\n",
              "2       1   535  0.892503            1    1    1  ...    1    1    1    1    1    0\n",
              "3       1  4700  0.460128            0    1    1  ...    1    0    0    0    0    0\n",
              "4       1  3459  0.466586            0    1    1  ...    1    0    0    0    0    0\n",
              "\n",
              "[5 rows x 14 columns]"
            ]
          },
          "metadata": {},
          "execution_count": 109
        }
      ]
    },
    {
      "cell_type": "code",
      "metadata": {
        "colab": {
          "base_uri": "https://localhost:8080/",
          "height": 359
        },
        "id": "ECHsxVt7wTOA",
        "outputId": "5e753938-bec8-43fe-cfac-d72681041242"
      },
      "source": [
        "from sklearn.metrics import accuracy_score\n",
        "# Create an empty dataframe with columns 'prob','accuracy','sensi' and 'speci'\n",
        "cutoff_df = pd.DataFrame(columns=['prob', 'accuracy', 'sensi', 'speci'])\n",
        "\n",
        "num = [0.0,0.1,0.2,0.3,0.4,0.5,0.6,0.7,0.8,0.9]\n",
        "\n",
        "#iterate through num\n",
        "for i in num:\n",
        "    #calculate confusion metrics\n",
        "    cm1 = confusion_matrix(y_pred_final['predicted_1'], y_pred_final[i])\n",
        "    tn, fp, fn, tp = cm1.ravel()\n",
        "    #total in cm1\n",
        "    total1= cm1\n",
        "    \n",
        "    #Calculate accuracy\n",
        "    accuracy = accuracy_score(y_pred_final['predicted_1'], y_pred_final[i]) \n",
        "    \n",
        "    #calculate specificity\n",
        "    speci = tn/(tn+fp)\n",
        "    \n",
        "    #calculate sensitivity\n",
        "    sensi = tp/(tp+fn)\n",
        "    \n",
        "    #append rows in cutoff_df with cutoff values, accuracy, sensitivity and specificity\n",
        "    cutoff_df.loc[i, 'prob'] = i \n",
        "    cutoff_df.loc[i, 'accuracy'] = accuracy\n",
        "    cutoff_df.loc[i, 'sensi'] = sensi\n",
        "    cutoff_df.loc[i, 'speci'] = speci \n",
        "\n",
        "cutoff_df['prob']=pd.to_numeric(cutoff_df['prob'])\n",
        "cutoff_df['accuracy']=pd.to_numeric(cutoff_df['accuracy'])\n",
        "cutoff_df['sensi']=pd.to_numeric(cutoff_df['sensi'])\n",
        "cutoff_df['speci']=pd.to_numeric(cutoff_df['speci'])\n",
        "\n",
        "\n",
        "# print cutoff_df \n",
        "cutoff_df"
      ],
      "execution_count": null,
      "outputs": [
        {
          "output_type": "execute_result",
          "data": {
            "text/html": [
              "<div>\n",
              "<style scoped>\n",
              "    .dataframe tbody tr th:only-of-type {\n",
              "        vertical-align: middle;\n",
              "    }\n",
              "\n",
              "    .dataframe tbody tr th {\n",
              "        vertical-align: top;\n",
              "    }\n",
              "\n",
              "    .dataframe thead th {\n",
              "        text-align: right;\n",
              "    }\n",
              "</style>\n",
              "<table border=\"1\" class=\"dataframe\">\n",
              "  <thead>\n",
              "    <tr style=\"text-align: right;\">\n",
              "      <th></th>\n",
              "      <th>prob</th>\n",
              "      <th>accuracy</th>\n",
              "      <th>sensi</th>\n",
              "      <th>speci</th>\n",
              "    </tr>\n",
              "  </thead>\n",
              "  <tbody>\n",
              "    <tr>\n",
              "      <th>0.0</th>\n",
              "      <td>0.0</td>\n",
              "      <td>0.425455</td>\n",
              "      <td>1.000000</td>\n",
              "      <td>0.0</td>\n",
              "    </tr>\n",
              "    <tr>\n",
              "      <th>0.1</th>\n",
              "      <td>0.1</td>\n",
              "      <td>0.425455</td>\n",
              "      <td>1.000000</td>\n",
              "      <td>0.0</td>\n",
              "    </tr>\n",
              "    <tr>\n",
              "      <th>0.2</th>\n",
              "      <td>0.2</td>\n",
              "      <td>0.425455</td>\n",
              "      <td>1.000000</td>\n",
              "      <td>0.0</td>\n",
              "    </tr>\n",
              "    <tr>\n",
              "      <th>0.3</th>\n",
              "      <td>0.3</td>\n",
              "      <td>0.425455</td>\n",
              "      <td>1.000000</td>\n",
              "      <td>0.0</td>\n",
              "    </tr>\n",
              "    <tr>\n",
              "      <th>0.4</th>\n",
              "      <td>0.4</td>\n",
              "      <td>0.425455</td>\n",
              "      <td>1.000000</td>\n",
              "      <td>0.0</td>\n",
              "    </tr>\n",
              "    <tr>\n",
              "      <th>0.5</th>\n",
              "      <td>0.5</td>\n",
              "      <td>1.000000</td>\n",
              "      <td>1.000000</td>\n",
              "      <td>1.0</td>\n",
              "    </tr>\n",
              "    <tr>\n",
              "      <th>0.6</th>\n",
              "      <td>0.6</td>\n",
              "      <td>0.866364</td>\n",
              "      <td>0.685897</td>\n",
              "      <td>1.0</td>\n",
              "    </tr>\n",
              "    <tr>\n",
              "      <th>0.7</th>\n",
              "      <td>0.7</td>\n",
              "      <td>0.843636</td>\n",
              "      <td>0.632479</td>\n",
              "      <td>1.0</td>\n",
              "    </tr>\n",
              "    <tr>\n",
              "      <th>0.8</th>\n",
              "      <td>0.8</td>\n",
              "      <td>0.811818</td>\n",
              "      <td>0.557692</td>\n",
              "      <td>1.0</td>\n",
              "    </tr>\n",
              "    <tr>\n",
              "      <th>0.9</th>\n",
              "      <td>0.9</td>\n",
              "      <td>0.796818</td>\n",
              "      <td>0.522436</td>\n",
              "      <td>1.0</td>\n",
              "    </tr>\n",
              "  </tbody>\n",
              "</table>\n",
              "</div>"
            ],
            "text/plain": [
              "     prob  accuracy     sensi  speci\n",
              "0.0   0.0  0.425455  1.000000    0.0\n",
              "0.1   0.1  0.425455  1.000000    0.0\n",
              "0.2   0.2  0.425455  1.000000    0.0\n",
              "0.3   0.3  0.425455  1.000000    0.0\n",
              "0.4   0.4  0.425455  1.000000    0.0\n",
              "0.5   0.5  1.000000  1.000000    1.0\n",
              "0.6   0.6  0.866364  0.685897    1.0\n",
              "0.7   0.7  0.843636  0.632479    1.0\n",
              "0.8   0.8  0.811818  0.557692    1.0\n",
              "0.9   0.9  0.796818  0.522436    1.0"
            ]
          },
          "metadata": {},
          "execution_count": 111
        }
      ]
    },
    {
      "cell_type": "code",
      "metadata": {
        "colab": {
          "base_uri": "https://localhost:8080/",
          "height": 279
        },
        "id": "0RTVSFd6wwuU",
        "outputId": "d77025b4-c837-4942-9aa5-87088282a75d"
      },
      "source": [
        "# Let's plot accuracy sensitivity and specificity for various probabilities.\n",
        "sns.lineplot(data=cutoff_df, x=\"prob\", y=\"sensi\")\n",
        "sns.lineplot(data=cutoff_df, x=\"prob\", y=\"accuracy\")\n",
        "sns.lineplot(data=cutoff_df, x=\"prob\", y=\"speci\")\n",
        "plt.legend(['sensi', 'accuracy', 'speci'])\n",
        "plt.show()"
      ],
      "execution_count": null,
      "outputs": [
        {
          "output_type": "display_data",
          "data": {
            "image/png": "[encoded data removed]",
            "text/plain": [
              "<Figure size 432x288 with 1 Axes>"
            ]
          },
          "metadata": {
            "needs_background": "light"
          }
        }
      ]
    },
    {
      "cell_type": "code",
      "metadata": {
        "colab": {
          "base_uri": "https://localhost:8080/"
        },
        "id": "Kfxa4r0zw4-E",
        "outputId": "0dcc3b78-5c54-4a73-baba-27c12e67b35a"
      },
      "source": [
        "metrix(y_test, y_pred_final[0.7])"
      ],
      "execution_count": null,
      "outputs": [
        {
          "output_type": "stream",
          "text": [
            "Confusion matrix\n",
            " [[885   2]\n",
            " [723 590]]\n",
            "\n",
            "\n",
            "Classificaiton Report\n",
            "               precision    recall  f1-score   support\n",
            "\n",
            "           0       0.55      1.00      0.71       887\n",
            "           1       1.00      0.45      0.62      1313\n",
            "\n",
            "    accuracy                           0.67      2200\n",
            "   macro avg       0.77      0.72      0.66      2200\n",
            "weighted avg       0.82      0.67      0.66      2200\n",
            "\n"
          ],
          "name": "stdout"
        }
      ]
    },
    {
      "cell_type": "code",
      "metadata": {
        "colab": {
          "base_uri": "https://localhost:8080/"
        },
        "id": "HVCJrQTnxzLK",
        "outputId": "2f3d4700-ed60-40fc-ee4c-44ea5d1ab68e"
      },
      "source": [
        "metrix(y_test, y_pred_final[0.5])"
      ],
      "execution_count": null,
      "outputs": [
        {
          "output_type": "stream",
          "text": [
            "Confusion matrix\n",
            " [[708 179]\n",
            " [556 757]]\n",
            "\n",
            "\n",
            "Classificaiton Report\n",
            "               precision    recall  f1-score   support\n",
            "\n",
            "           0       0.56      0.80      0.66       887\n",
            "           1       0.81      0.58      0.67      1313\n",
            "\n",
            "    accuracy                           0.67      2200\n",
            "   macro avg       0.68      0.69      0.67      2200\n",
            "weighted avg       0.71      0.67      0.67      2200\n",
            "\n"
          ],
          "name": "stdout"
        }
      ]
    },
    {
      "cell_type": "code",
      "metadata": {
        "id": "Ecy6p4Jax9Aa"
      },
      "source": [
        ""
      ],
      "execution_count": null,
      "outputs": []
    }
  ]
}